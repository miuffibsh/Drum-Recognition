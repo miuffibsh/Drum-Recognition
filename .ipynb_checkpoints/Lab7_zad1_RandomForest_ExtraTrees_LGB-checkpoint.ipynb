{
 "cells": [
  {
   "cell_type": "markdown",
   "metadata": {},
   "source": [
    "Na dzisiejszych zajęciach będziemy zajmować się algorytmami drzewiastymi. Poznamy dwa algorytmy z biblioteki scikit-learn: random forest (lasy losowe) oraz extra trees.   \n",
    "\n",
    "Oprócz tego zrobimy krótkie wprowadzenie do pakietu LightGBM wykorzystującego metodę wzmocnienia gradientowego.\n",
    "\n",
    "Dane, na których będziemy pracować dotyczą tzw. klasyfikacji zdarzeń akustycznych (ang. acoustic event classification). Są to różnego rodzaju dźwięki, które można spotkać w mieście - głosy ludzi, zwierząt, odgłosy wydawane przez urządzenia techniczne, samochody itp. Jest to dość trudny problem klasyfikacyjny, ponieważ próbujemy nauczyć model rozpoznawania wielu klas naraz.\n",
    "\n",
    "Źrodło danych: https://www.kaggle.com/chrisfilo/urbansound8k?fbclid=IwAR2AwTcNOEFFJGq3Me5C2o6lLJ_jMTzo5PUdB2EWStjTaBq1z1CVCCQG0Uc"
   ]
  },
  {
   "cell_type": "code",
   "execution_count": 1,
   "metadata": {},
   "outputs": [],
   "source": [
    "import numpy as np\n",
    "from sklearn.ensemble import RandomForestClassifier, ExtraTreesClassifier\n",
    "from sklearn.metrics import roc_auc_score, roc_curve, auc, precision_recall_curve, accuracy_score, recall_score, f1_score, make_scorer, confusion_matrix, log_loss\n",
    "from sklearn.pipeline import make_pipeline\n",
    "from sklearn.preprocessing import StandardScaler\n",
    "import matplotlib.pyplot as plt\n",
    "from sklearn.svm import SVC\n",
    "import optuna\n",
    "from sklearn.model_selection import cross_validate, GroupKFold\n",
    "import pickle\n",
    "from collections import Counter\n",
    "import lightgbm as lgb\n",
    "import scipy.stats"
   ]
  },
  {
   "cell_type": "markdown",
   "metadata": {},
   "source": [
    "Tak jak ostatnio, będziemy pracować na plikach z wyekstrahowanymi wcześniej cechami, żeby nie tracić czasu na ich wyliczanie. Będziemy wykorzystywać dwa rodzaje cech: poznane już wcześniej MFCC oraz bardzo podobne cechy, których jeszcze nie omawialiśmy - GFCC (ang. gammatone frequency cepstral coefficients).\n",
    "\n",
    "GFCC to kolejny rodzaj cech bazujący na modelu psychoakustycznym, który ma za zadanie opisać w sposób matematyczny działanie ludzkiego układu słuchowego. Od MFCC różni się przede wszystkich kształtem filtrów stosowanych do przetwarzania sygnałów - w przypadku MFCC są to filtry trójkątne, natomiast GFCC wyliczane są przy użyciu filtrów gammatone. Filtry gammatone mają nieco bardziej naturalny, fizjologiczny kształt - wierzchołek jest zaokrąglony, a nie ostry jak w filtrach trójkątnych:"
   ]
  },
  {
   "cell_type": "markdown",
   "metadata": {},
   "source": [
    "![caption](https://www.researchgate.net/profile/Peter-Balazs/publication/309663739/figure/fig2/AS:614042511085584@1523410551779/A-popular-auditory-filter-model-the-gammatone-filter-bank-The-magnitude-responses-in.png)"
   ]
  },
  {
   "cell_type": "markdown",
   "metadata": {},
   "source": [
    "Klasyfikację przeprowadzimy na początek używając tylko MFCC i lasów losowych. Wczytujemy 3 pliki:\n",
    "- mfcc_feats.npy - macierz z 13 MFCC\n",
    "- labels.npy - wektor z labelami (przyporządkowaniem do klas)\n",
    "- folds.npy - podział na foldy (podzbiory), który ma być wykorzystany podczas walidacji krzyżowej. \n",
    "\n",
    "Dotychczas walidację krzyżową robiliśmy dzieląc dane na podzbiory w sposób losowy - czasem podział jest istotny i powinien być przeprowadzony w określony sposób. Jest tak np. wtedy, gdy w bazie znajduje się więcej niż jeden sygnał zawierający dźwięki emitowane przez to samo urządzenie lub tę samą osobę. Wtedy należy zagwarantować, żeby  wszystkie sygnały związane z tym samym obiektem znalazły się w tym samym podzbiorze - gdyby tak nie było, to uzyskalibyśmy sztucznie zawyżone metryki i mielibyśmy złe pojęcie o jakości naszego modelu."
   ]
  },
  {
   "cell_type": "code",
   "execution_count": 2,
   "metadata": {
    "scrolled": false
   },
   "outputs": [
    {
     "data": {
      "text/plain": [
       "(7334, 13, 345)"
      ]
     },
     "execution_count": 2,
     "metadata": {},
     "output_type": "execute_result"
    }
   ],
   "source": [
    "X_mfcc = np.load('mfcc_3D.npy')\n",
    "y_org = np.load('labels.npy')\n",
    "folds = np.load('folds.npy')\n",
    "#klasy\n",
    "# 0 = airconditioner 1 = carhorn 2 = childrenplaying 3 = dogbark 4 = drilling\n",
    "# 5 = engineidling 6 = gunshot 7 = jackhammer 8 = siren 9 = street_music\n",
    "\n",
    "X_mfcc.shape #mamy 7334 sygnałów o długości 345 ramek, z każdego wyekstrahowano 13 MFCC"
   ]
  },
  {
   "cell_type": "markdown",
   "metadata": {},
   "source": [
    "Gdybyśmy utworzyli z macierzy MFCC wektor, mielibyśmy każdy sygnał opisany 4486 cechami - algorytmy drzewiaste uczyłyby się na takich danych bardzo długo. Dlatego chcemy mieć dane o mniejszych wymiarach.\n",
    "\n",
    "Tym razem nie będziemy zmniejszać wymiarowości danych używając algorytmów, które poznaliśmy do tej pory. Zamiast tego wyliczymy parametry statystyczne charakteryzujące każdy kanał (każdy z 13 współczynników cepstralnych) na całej długości sygnału. Będą to bardzo podstawowe parametry:\n",
    "- wartość średnia, \n",
    "- odchylenie standardowe, \n",
    "- mediana, \n",
    "- I i III kwartyl, \n",
    "- rozrzut pomiędzy 10 i 90 percentylem, \n",
    "- kurtoza, \n",
    "- skośność, \n",
    "- wartość minimalna,\n",
    "- wartość maksymalna. \n",
    "\n",
    "Takie cechy są czasem stosowane w przemyśle, np. w analizie mowy, więc warto wiedzieć, że można ich używać i że potrafią dawać dobre rezultaty.\n",
    "\n",
    "Teraz każdy sygnał będzie opisany tylko 130 cechami, więc można prowadzić proces uczenia, walidacji i predykcji bez dalszej redukcji wymiarowości."
   ]
  },
  {
   "cell_type": "code",
   "execution_count": 3,
   "metadata": {},
   "outputs": [],
   "source": [
    "X = np.hstack((np.mean(X_mfcc, axis=2), \n",
    "               np.std(X_mfcc, axis=2), \n",
    "               np.median(X_mfcc, axis=2), \n",
    "               np.percentile(X_mfcc, 25, axis=2), \n",
    "               np.percentile(X_mfcc, 75, axis=2), \n",
    "               scipy.stats.iqr(X_mfcc, rng=(10, 90), axis=2),\n",
    "               scipy.stats.kurtosis(X_mfcc, axis=2),\n",
    "               scipy.stats.skew(X_mfcc, axis=2),\n",
    "               np.min(X_mfcc, axis=2),\n",
    "               np.max(X_mfcc, axis=2)\n",
    "              ))"
   ]
  },
  {
   "cell_type": "markdown",
   "metadata": {},
   "source": [
    "Wyświetlmy liczebność poszczególnych klas, żeby zobaczyć, czy mają podobną liczebność - jeżeli różnica pomiędzy liczebnością klas będzie bardzo duża, to prawdopodobnie klasyfikator nie będzie w stanie nauczyć się ich poprawnie rozpoznawać bez dodatkowego preprocessingu, np. nad- lub podpróbkowania klas."
   ]
  },
  {
   "cell_type": "code",
   "execution_count": 4,
   "metadata": {
    "scrolled": true
   },
   "outputs": [
    {
     "data": {
      "text/plain": [
       "Counter({2: 976,\n",
       "         3: 675,\n",
       "         0: 997,\n",
       "         9: 1000,\n",
       "         8: 897,\n",
       "         5: 961,\n",
       "         7: 804,\n",
       "         4: 805,\n",
       "         1: 203,\n",
       "         6: 16})"
      ]
     },
     "execution_count": 4,
     "metadata": {},
     "output_type": "execute_result"
    }
   ],
   "source": [
    "Counter(y_org)"
   ]
  },
  {
   "cell_type": "markdown",
   "metadata": {},
   "source": [
    "Jak widać najmniej licza jest klasa 6 - należy do niej tylko 16 obiektów, czyli 0,2% wszystkich danych. Usuniemy wszystkie obiekty z tej klasy ze zbioru danych, ponieważ będą tylko utrudniać proces uczenia.\n",
    "\n",
    "Wykorzystamy podzbiór nr 10 jako zbiór testowy, a pozostałe 9 podzbiorów będzie tworzyło zbiór uczący. Walidacja krzyżowa, którą będziemy robić za chwilę, będzie w takim razie 9-krotna."
   ]
  },
  {
   "cell_type": "code",
   "execution_count": 5,
   "metadata": {},
   "outputs": [
    {
     "name": "stdout",
     "output_type": "stream",
     "text": [
      "(7334,)\n"
     ]
    }
   ],
   "source": [
    "#usuwanie klasy 6 ze zbioru danych\n",
    "y_not_6 = y_org!=6\n",
    "print(folds.shape)\n",
    "\n",
    "X = X[y_not_6]\n",
    "folds = folds[y_not_6]\n",
    "y = y_org[y_not_6]\n",
    "\n",
    "#podział na zbiór uczący i testowy\n",
    "train_folds_mask = folds != 10\n",
    "test_fold_mask = folds == 10\n",
    "\n",
    "train_folds = folds[train_folds_mask]\n",
    "test_fold = folds[test_fold_mask]\n",
    "\n",
    "X_train = X[train_folds_mask]\n",
    "X_test = X[test_fold_mask]\n",
    "\n",
    "y_train = y[train_folds_mask]\n",
    "y_test = y[test_fold_mask]"
   ]
  },
  {
   "cell_type": "markdown",
   "metadata": {},
   "source": [
    "Ostatnim krokiem przed uczeniem modelu będzie standaryzacja danych:"
   ]
  },
  {
   "cell_type": "code",
   "execution_count": 6,
   "metadata": {},
   "outputs": [],
   "source": [
    "scaler = StandardScaler()\n",
    "X_train = scaler.fit_transform(X_train)\n",
    "X_test = scaler.transform(X_test)"
   ]
  },
  {
   "cell_type": "markdown",
   "metadata": {},
   "source": [
    "LAS LOSOWY\n",
    "\n",
    "Mamy już przygotowane dane, więc możemy zdefiniować, która metryka posłuży do walidacji modelu w czasie walidacji krzyżowej oraz przejść do uczenia modelu. Zaczniemy od lasu losowego, czyli klasyfikatora Random Forest.\n",
    "\n",
    "Do wyjaśnienia zasady działania lasów losowych potrzebna jest znajomość drzew decyzyjnych. Drzewa decyzyjne to hierachiczny algorytm, który tworzy proste reguły dotyczące wartości cech, które pozwalają dokonać podziału danych na klasy (lub przewidywania wartości w przypadku regresji). Początek drzewa, czyli miejsce, w którym dane będą po raz pierwszy podzielone nazywany jest korzeniem. Każde kolejne miejsce, znajdujące się co najmniej poziom niżej od korzenia, to węzeł. Na końcu drzewa znajdują się liście - w liściach nie następują już dalsze podziały, ponieważ albo znajdują się w nich obiekty z tylko jednej klasy, albo został osiągnięty narzucony warunek zatrzymania algorytmu. Węzły połączone są ze sobą oraz z liśćmi krawędziami. \n",
    "\n",
    "W węzłach zapisane są warunki dalszego podziału, dotyczące pojedynczych cech lub ich kombinacji liniowych. Predykcja polega na przejściu przez wszystkie poziomy drzewa, sprawdzając, czy spełnione są zapisane w kolejnych węzłach warunki. Na końcu docieramy do liścia, w którym zawarta jest informacja, do której klasy przynależy obiekt.\n",
    "\n",
    "Poniżej przykład drzewa decyzyjnego służącego do określenia, czy u pacjenta występuje podwyższone ryzyko zawału mięśnia sercowego:\n",
    "\n",
    "![caption](https://pranav-ap.netlify.app/media/machine%20learning/decision%20trees/decision-tree.png)\n",
    "\n",
    "Trochę bardziej wyczerpujący opis można przeczytac np. tu: http://aiway.pl/drzewa-decyzyjne/\n",
    "\n",
    "Las losowy to zbiór drzew klasyfikacyjnych. Każde drzewo uczone jest na innym, losowym podzbiorze danych - w ten sposób każde drzewo może uczyć się na innym zestawie obiektów. Dodatkowo, w każdym węźle drzewa podział dokonywany jest w oparciu o losowo wybrane cechy (czyli nie bierzemy pod uwagę wszystkich cech opisujących obiekt, a jedynie część z nich). Ostateczna przynależność do klas określana jest na drodze głosowania - każde drzewo zwraca decyzję, a cały las wybiera tę klasę, która pojawiła się najwięcej razy w predykcjach pojedynczych drzew."
   ]
  },
  {
   "cell_type": "code",
   "execution_count": 7,
   "metadata": {},
   "outputs": [],
   "source": [
    "scoring = {'f1_macro': make_scorer(f1_score, average='macro')}"
   ]
  },
  {
   "cell_type": "markdown",
   "metadata": {},
   "source": [
    "Jeżeli mamy z góry określony podział na podzbiory, którego mamy użyć podczas walidacji krzyżowej, funkcji cross_validate należy użyć w taki sposób:\n",
    "- najpierw podajemy model, który będzie uczony,\n",
    "- następnie macierz cech uczących oraz wektor labeli zbioru uczącego,\n",
    "- określamy, jaka metryka będzie wykorzystywana do walidacji, czyli scoring,\n",
    "- definiujemy parametr groups - jest to podział obiektów na podzbiory określony w zmiennej train_folds (dla każdego obiektu podany jest numer podzbioru, w którym ma się znaleźć),\n",
    "- do parametry cv przypisujemy GroupKFold(n_splits=len(np.unique(train_folds))) - to jest to miejsce, w którym algorytm walidacji krzyżowej sprawdza, ile podzbiorów ma być utworzonych i dostaje informację, że ma ten podział zrobić na podstawie numerów podzbiorów zawartych w train_folds."
   ]
  },
  {
   "cell_type": "code",
   "execution_count": 8,
   "metadata": {},
   "outputs": [],
   "source": [
    "model = RandomForestClassifier(random_state=42)\n",
    "scores = cross_validate(model, X_train, y_train, scoring=scoring, groups=train_folds, cv=GroupKFold(n_splits=len(np.unique(train_folds))))"
   ]
  },
  {
   "cell_type": "markdown",
   "metadata": {},
   "source": [
    "Wyświetlmy sobie, jakie wartości F1 uzyskaliśmy dla każdego podzbioru podczas walidacji krzyżowej."
   ]
  },
  {
   "cell_type": "code",
   "execution_count": 9,
   "metadata": {
    "scrolled": false
   },
   "outputs": [
    {
     "data": {
      "text/plain": [
       "{'fit_time': array([6.81122446, 6.4471612 , 6.65888858, 6.795856  , 6.77076173,\n",
       "        6.63373327, 6.69438815, 6.71527505, 6.67895508]),\n",
       " 'score_time': array([0.03167367, 0.03207827, 0.03069115, 0.03117847, 0.02996588,\n",
       "        0.02947021, 0.02972388, 0.02850747, 0.02772379]),\n",
       " 'test_f1_macro': array([0.6351108 , 0.46780824, 0.59506957, 0.50502088, 0.56636187,\n",
       "        0.59618002, 0.57521537, 0.57631282, 0.54417924])}"
      ]
     },
     "execution_count": 9,
     "metadata": {},
     "output_type": "execute_result"
    }
   ],
   "source": [
    "scores"
   ]
  },
  {
   "cell_type": "markdown",
   "metadata": {},
   "source": [
    "Jak widać, wyniki nie są szczególnie dobre - dla 8 z 9 podzbiorów uzyskaliśmy F1 < 0.6. Jeżeli teraz przeprowadzimy walidację prostą (czyli uczenie na całym zbiorze uczącym i predykcje na testowym), to raczej też nie uzyskamy zadowalających wyników."
   ]
  },
  {
   "cell_type": "code",
   "execution_count": null,
   "metadata": {},
   "outputs": [],
   "source": [
    "#Przeprowadź trening klasyfikatora RandomForest z random_state=42 i domyślnymi wartościami pozostałych\n",
    "#hiperparamterów oraz predykcję na zbiorze testowy. \n",
    "#Wyświetl macierz pomyłek, F1 i dokładność (accuracy)\n",
    "\n"
   ]
  },
  {
   "cell_type": "markdown",
   "metadata": {},
   "source": [
    "Możemy również wyświetlić, które cechy miały największy wpływ na wynik klasyfikacji."
   ]
  },
  {
   "cell_type": "code",
   "execution_count": 11,
   "metadata": {
    "scrolled": false
   },
   "outputs": [
    {
     "data": {
      "text/plain": [
       "array([0.01347559, 0.01289423, 0.0089694 , 0.0161301 , 0.00939055,\n",
       "       0.00598816, 0.00843287, 0.00871002, 0.01048525, 0.00659015,\n",
       "       0.00818963, 0.00719654, 0.00606685, 0.01578409, 0.01063738,\n",
       "       0.00917164, 0.00927458, 0.01003863, 0.00670233, 0.00834102,\n",
       "       0.00693825, 0.00565679, 0.00898747, 0.01707306, 0.00743833,\n",
       "       0.00694824, 0.01290899, 0.01173283, 0.00904746, 0.01418193,\n",
       "       0.00904204, 0.00573058, 0.00862992, 0.00790943, 0.00958022,\n",
       "       0.00760183, 0.00683907, 0.00605683, 0.00523785, 0.01172233,\n",
       "       0.01124313, 0.00911116, 0.01507182, 0.01249784, 0.00612842,\n",
       "       0.00799496, 0.00721569, 0.00766232, 0.0071994 , 0.0083708 ,\n",
       "       0.00682377, 0.00518819, 0.01275915, 0.01298717, 0.01020599,\n",
       "       0.01522327, 0.00799157, 0.00572296, 0.00856745, 0.01128347,\n",
       "       0.01250434, 0.00661601, 0.00850692, 0.00784823, 0.00684716,\n",
       "       0.01481661, 0.01488154, 0.011767  , 0.0096766 , 0.0087968 ,\n",
       "       0.00529765, 0.00913274, 0.00938902, 0.00433273, 0.00900196,\n",
       "       0.00801104, 0.00868641, 0.00575247, 0.00354516, 0.00291039,\n",
       "       0.00276312, 0.00251073, 0.00261672, 0.0022612 , 0.00265121,\n",
       "       0.00257297, 0.00317993, 0.00351083, 0.00423936, 0.00478539,\n",
       "       0.00300931, 0.00538002, 0.00416543, 0.00404894, 0.00297667,\n",
       "       0.00385127, 0.00240095, 0.0027977 , 0.00265927, 0.00264392,\n",
       "       0.00231568, 0.00210556, 0.00197176, 0.00220464, 0.00667111,\n",
       "       0.00752833, 0.0110788 , 0.01575176, 0.01061056, 0.00571589,\n",
       "       0.006154  , 0.00758194, 0.00533897, 0.00607441, 0.00575151,\n",
       "       0.00544303, 0.0047868 , 0.00905372, 0.01326472, 0.00701084,\n",
       "       0.01144387, 0.00745496, 0.00523213, 0.00582432, 0.00794228,\n",
       "       0.00818268, 0.00645124, 0.00752803, 0.00490782, 0.00429194])"
      ]
     },
     "execution_count": 11,
     "metadata": {},
     "output_type": "execute_result"
    }
   ],
   "source": [
    "model.feature_importances_"
   ]
  },
  {
   "cell_type": "markdown",
   "metadata": {},
   "source": [
    "Możemy znaleźć indeksy cech, które są najbardziej i najmniej istotne:"
   ]
  },
  {
   "cell_type": "code",
   "execution_count": 16,
   "metadata": {
    "scrolled": true
   },
   "outputs": [
    {
     "data": {
      "text/plain": [
       "(23, 102)"
      ]
     },
     "execution_count": 16,
     "metadata": {},
     "output_type": "execute_result"
    }
   ],
   "source": [
    "np.argmax(model.feature_importances_), np.argmin(model.feature_importances_)"
   ]
  },
  {
   "cell_type": "markdown",
   "metadata": {},
   "source": [
    "Największy wpływ na wynik klasyfikacji miała cecha nr 23, a najmniejszy - 102. Patrząc na sposób tworzenia macierzy X możemy wywnioskować, że najistotniejsze jest odchylenie standardowe 10 kanału MFCC, zaś najmniej istotna - skośność 11 kanału.\n",
    "\n",
    "Robiąc takie analizy moglibyśmy usunąć te najmniej istotne cechy i w ten sposób przeprowadzić redukcję wymiarowości. Nie będziemy tego teraz robić, ponieważ chcemy porównać wyniki uzyskiwane na różnych zbiorach cech oraz przy użyciu różnych klasyfikatorów."
   ]
  },
  {
   "cell_type": "markdown",
   "metadata": {},
   "source": [
    "Przypuszczenia oparte o wyniki dla podzbiorów walidacyjnych potwiedziły się i wyniki uzyskane na zbiorze testowym nie są zbyt dobre, chociaż też nie można powiedzieć, że są tragiczne - dokładność 0.62 dla modelu z domyślnymi wartościami hiperparametrów i przy 9 klasach to całkiem dobry wyniki. Widać natomiast, że np. żaden obiekt z klasy 2 nie zostal zaklasyfikowany prawidłowo, więc warto spróbować uzyskać lepszy model.\n",
    "\n",
    "Możemy wypróbować kolejne cechy, czyli GFCC. Podziału na zbiory i labeli nie musimy wczytywać na nowo, bo pozostają bez zmian."
   ]
  },
  {
   "cell_type": "code",
   "execution_count": 19,
   "metadata": {},
   "outputs": [
    {
     "name": "stdout",
     "output_type": "stream",
     "text": [
      "7318\n",
      "7318\n"
     ]
    },
    {
     "data": {
      "text/plain": [
       "(7334, 13, 345)"
      ]
     },
     "execution_count": 19,
     "metadata": {},
     "output_type": "execute_result"
    }
   ],
   "source": [
    "print(len(y)) #długość wektora y po usunięciu obiektów z klasy 6\n",
    "X_gfcc = np.load('gfcc_3D.npy')\n",
    "print(len(y)) #długość wektora y przed usunięciem obiektów z klasy 6\n",
    "X_gfcc.shape"
   ]
  },
  {
   "cell_type": "markdown",
   "metadata": {},
   "source": [
    "Kolejne etapy są takie same - należy wyliczyć statystyki, usunąć klasę 6 z macierzy X i podzielić dane na zbiór uczący i testowy tak, by w testowym był tylko 10 podzbiór, a w uczącym pozostałe 9 podzbiorów.\n",
    "\n",
    "Zrób to poniżej, nie nadpisując starego kodu - będziemy porównywać uzyskane wyniki, więc dobrze będzie mieć dostęp do tego, co wyszło przed chwilą."
   ]
  },
  {
   "cell_type": "code",
   "execution_count": 20,
   "metadata": {},
   "outputs": [],
   "source": [
    "#wylicz statystyki\n"
   ]
  },
  {
   "cell_type": "code",
   "execution_count": 21,
   "metadata": {},
   "outputs": [],
   "source": [
    "#usuń klasę 6 i podziel dane na zbiory\n"
   ]
  },
  {
   "cell_type": "code",
   "execution_count": 22,
   "metadata": {},
   "outputs": [],
   "source": [
    "#przeprowadź walidację krzyżową klasyfikatora RandomForest (zastosuj taki sam random_state jak wcześniej)\n"
   ]
  },
  {
   "cell_type": "code",
   "execution_count": null,
   "metadata": {},
   "outputs": [],
   "source": [
    "#Przeprowadź trening klasyfikatora RandomForest z random_state=42 i domyślnymi wartościami pozostałych\n",
    "#hiperparamterów oraz predykcję na zbiorze testowy. \n",
    "#Wyświetl macierz pomyłek, F1 i dokładność (accuracy)\n"
   ]
  },
  {
   "cell_type": "markdown",
   "metadata": {},
   "source": [
    "Tym razem wyniki są znacząco gorsze niż te uzyskane na MFCC. \n",
    "\n",
    "Spróbujemy zwiększyć dokładność predykcji ucząc model na obu typach cech naraz. Takie postępowanie, czyli wykorzystywanie zbioru różnych cech, które pojedynczo nie dają dobrych rezultatów, często pozwala znacząco poprawić jakość modelu."
   ]
  },
  {
   "cell_type": "code",
   "execution_count": 24,
   "metadata": {},
   "outputs": [
    {
     "data": {
      "text/plain": [
       "(7334, 26, 345)"
      ]
     },
     "execution_count": 24,
     "metadata": {},
     "output_type": "execute_result"
    }
   ],
   "source": [
    "X = np.hstack((X_mfcc, X_gfcc))\n",
    "\n",
    "X.shape"
   ]
  },
  {
   "cell_type": "code",
   "execution_count": 25,
   "metadata": {},
   "outputs": [],
   "source": [
    "#Ponownie wylicz statystyki"
   ]
  },
  {
   "cell_type": "code",
   "execution_count": 26,
   "metadata": {},
   "outputs": [
    {
     "data": {
      "text/plain": [
       "(7334, 260)"
      ]
     },
     "execution_count": 26,
     "metadata": {},
     "output_type": "execute_result"
    }
   ],
   "source": [
    "X.shape"
   ]
  },
  {
   "cell_type": "markdown",
   "metadata": {},
   "source": [
    "Cech opisujących pojedynczy obiekt mamy teraz co prawda aż 260, ale nadal nie jest to na tyle duża liczba, żeby proces uczenia trwał bardzo długo lub było duże ryzyko przeuczenia modelu, więc możemy nie robić redukcji wymiarowości."
   ]
  },
  {
   "cell_type": "code",
   "execution_count": 27,
   "metadata": {},
   "outputs": [],
   "source": [
    "#usuń klasę 6, podziel dane na zbiory i przeprowadź walidację krzyżową, trening i predykcję"
   ]
  },
  {
   "cell_type": "code",
   "execution_count": 28,
   "metadata": {},
   "outputs": [],
   "source": []
  },
  {
   "cell_type": "markdown",
   "metadata": {},
   "source": [
    "Wyniki, które uzyskaliśmy na MFCC i GFCC równocześnie są już bardziej obiecujące - nawet na nieoptymalizowanym modelu udało uzyskać się dokładność i F1 przekraczające 0.65.\n",
    "\n",
    "Skoro już wiemy, że na takich danych uzyskujemy najlepsze wyniki, możemy przejść do optymalizacji modelu. Będziemy optymalizować 3 hiperparamtry:\n",
    "- n_estimators - liczba drzew klasyfikacyjnych, które będą tworzyły las,\n",
    "- max_depth - maksymalna głębokość (liczba poziomów) drzewa,\n",
    "- min_samples_split - minimalna liczba obiektów, które muszą znajdować się w węźle, by można go było poddać kolejnemu podziałowi.\n",
    "\n",
    "Dodamy też parametr n_jobs, który określna liczbę rdzeni, które zostaną wykorzytane do treningu. -1 oznacza wszystkie dostępne - taki wybór przyspieszy optymalizację, ale spowolni działanie innych procesów.\n",
    "\n",
    "Liczbę triali ustawimy na 60 - jest to wartość dobrana eksperymentalnie pozwalająca na uzyskanie w miarę dobrych wyników. W domu lub pod koniec zajęć możesz spróbować zwiększyć ją np. do 100 lub 150 i zobaczyć, czy wyniki uda się poprawić, czy optimum będzie jednak osiągnięte wcześniej i nie ma sensu optymalizować modelu dłużej."
   ]
  },
  {
   "cell_type": "code",
   "execution_count": 30,
   "metadata": {},
   "outputs": [],
   "source": [
    "model = RandomForestClassifier\n",
    "\n",
    "#uzupełnij funkcję get_space\n",
    "def get_space(trial): \n",
    "    space = {\"n_estimators\":\n",
    "        \"max_depth\":\n",
    "        \"min_samples_split\":\n",
    "        \"n_jobs\": trial.suggest_int(\"n_jobs\", -1, -1)}\n",
    "    return space\n",
    "trials = 60 #liczba prób\n",
    "\n",
    "def objective(trial, model, X, y):\n",
    "    model_space = get_space(trial)\n",
    "\n",
    "    mdl = model(**model_space)\n",
    "    scores = cross_validate(mdl, X, y, groups=train_folds, scoring=scoring, cv=GroupKFold(n_splits=len(np.unique(train_folds))), return_train_score=True)\n",
    "\n",
    "    return np.mean(scores['test_f1_macro'])"
   ]
  },
  {
   "cell_type": "code",
   "execution_count": null,
   "metadata": {},
   "outputs": [],
   "source": [
    "study = optuna.create_study(direction='maximize')"
   ]
  },
  {
   "cell_type": "code",
   "execution_count": null,
   "metadata": {},
   "outputs": [],
   "source": [
    "%%time\n",
    "#%%time to komenda służąca do pomiaru czasu wykonywania komórki, musi znajdować się na samej górze komórki\n",
    "study.optimize(lambda x: objective(x, model, X_train, y_train), n_trials=trials)"
   ]
  },
  {
   "cell_type": "code",
   "execution_count": null,
   "metadata": {
    "scrolled": false
   },
   "outputs": [],
   "source": [
    "#Wytrenuj model o najlepszych hiperparametrach, przeprowadź predykcję i wylicz metryki"
   ]
  },
  {
   "cell_type": "markdown",
   "metadata": {},
   "source": [
    "Czy wyniki uzyskane przy użyciu optymalizowanego modelu są lepsze, niż te, które uzyskaliśmy stosując domyślne wartości hiperparametrów?"
   ]
  },
  {
   "cell_type": "markdown",
   "metadata": {},
   "source": [
    "EXTRA TREES\n",
    "\n",
    "Algorytmem bardzo podobnym do lasu losowego jest algorytm ExtraTrees. Od lasu losowego różni go przede wszystkich kryterium podziału drzewa w danym węźle: w ExtraTrees kryterium jest losowe, a w lasach losowych stosowane jest kryterium optymalne (dające najlepszy podział). Dzięki temu algorytm ExtraTrees zazwyczaj jest szybszy. Kolejną istotną różnicą jest to, że podczas podziału danych w lesie losowym stosowane jest tzw. losowanie ze zwracaniem, natomiast w ExtraTrees nie - oznacza to, że w ExtraTrees obserwacje podane do kolejnych drzew nie będą się powtarzać, natomiast w lesie losowym mogą.\n",
    "\n",
    "ExtraTrees najczęściej daje (trochę) gorsze wyniki niż las losowy, jednak nie zawsze tak jest - jeżeli mamy czas, warto wypróbować oba algorytmy."
   ]
  },
  {
   "cell_type": "code",
   "execution_count": 34,
   "metadata": {},
   "outputs": [],
   "source": [
    "model = ExtraTreesClassifier\n",
    "\n",
    "#uzupełnij funkcję get_space\n",
    "def get_space(trial): \n",
    "    space = {\n",
    "            \"n_estimators\":\n",
    "            \"max_depth\":\n",
    "        }\n",
    "    return space\n",
    "trials = 60 #liczba prób\n",
    "\n",
    "def objective(trial, model, X, y):\n",
    "    model_space = get_space(trial)\n",
    "\n",
    "    mdl = model(**model_space)\n",
    "    scores = cross_validate(mdl, X, y, groups=train_folds, scoring=scoring, cv=GroupKFold(n_splits=len(np.unique(train_folds))), return_train_score=True)\n",
    "\n",
    "    return np.mean(scores['test_f1_macro'])"
   ]
  },
  {
   "cell_type": "code",
   "execution_count": null,
   "metadata": {},
   "outputs": [],
   "source": [
    "study = optuna.create_study(direction='maximize')"
   ]
  },
  {
   "cell_type": "code",
   "execution_count": null,
   "metadata": {},
   "outputs": [],
   "source": [
    "%%time\n",
    "study.optimize(lambda x: objective(x, model, X_train, y_train), n_trials=trials)"
   ]
  },
  {
   "cell_type": "code",
   "execution_count": null,
   "metadata": {},
   "outputs": [],
   "source": [
    "#Wytrenuj model o najlepszych hiperparametrach, przeprowadź predykcję i wylicz metryki\n"
   ]
  },
  {
   "cell_type": "markdown",
   "metadata": {},
   "source": [
    "LightGBM\n",
    "\n",
    "Ostatnim klasyfikatorem przewidzianym na dzisiaj jest algorytm drzewiasty zaimplementowany w pakiecie LightGBM. W porównaniu do lasów losowych i ExtraTrees cechuje się przede wszystkim większą efektywnością, mniejszym zużyciem pamięci i często pozwala uzyskać większą dokładność klasyfikacji. Ma też o wiele więcej hiperparametrów, które możemy określić lub optymalizować: https://lightgbm.readthedocs.io/en/latest/Parameters.html\n",
    "\n",
    "My będziemy optymalizować następujące z nich:\n",
    "- boosting_type - algorytm wzmocnienia gradientowego, zostawimy wartość domyślną, czyli gbdt (Gradient Boosting Decision Tree),\n",
    "- num_leaves - maksymalna liczba liści, które mogą zostać utworzone,\n",
    "- n_estimators - liczba drzew,\n",
    "- max_depth - maksymalna głębokość drzewa (liczba poziomów),\n",
    "- learning_rate - współczynnik określający, z jakim krokiem mają być zmieniane wagi modelu podczas dążenia do osiągnięcia minimalnego błędu popełnianego przez model (zbyt mały learning rate powoduje nadmiernie długi czas uczenia, zbyt duży zwiększa ryzyko \"przeskoczenia\" minimum błędu i nieznalezienia optymalnych wag),\n",
    "- subsample - określa, jaka część obiektów (domyślnie losowanych bez zwracania) ma być podana do drzewa podczas treningu, \n",
    "- colsample_bytree - określa, jaka część wszystkich cech ma być podana do drzewa podczas treningu, \n",
    "- min_child_samples - minimalna liczba obiektów, które muszą znaleźć się w liściu,\n",
    "- min_split_gain - minimalny przyrost informacji, który musi być osiągnięty po podziale węzła (jeżeli nie jest osiągnięty, to węzeł nie będzie dalej dzielony); przyrost informacji definiowany jest jako entropia_przed_podziałem - entropia_po_podziale, gdzie entropia dana jest wzorem:\n",
    "\n",
    "![caption](https://lh6.googleusercontent.com/B4y6fIw_pcAR-AWuTlF5mVlmvKximSRUDhptG-KhvcNLD_RAoITCSi7fn4Owjufm9pnpV3BFrdcijPtA2vCqtSHIPz0Ydrr5NqY924XV-oSl5eOUqfluX9isYXQoU3WHL55x9eLH)"
   ]
  },
  {
   "cell_type": "code",
   "execution_count": 38,
   "metadata": {},
   "outputs": [],
   "source": [
    "model = lgb.LGBMClassifier\n",
    "def get_space(trial): \n",
    "    space = {\"boosting_type\": trial.suggest_categorical('boosting_type', [\"gbdt\"]),\n",
    "            \"num_leaves\": trial.suggest_int(\"num_leaves\", 2, 200),\n",
    "            \"n_estimators\": trial.suggest_int(\"n_estimators\", 2, 200),\n",
    "            \"max_depth\": trial.suggest_int(\"max_depth\", 2, 200),\n",
    "            \"learning_rate\": trial.suggest_discrete_uniform(\"learning_rate\", 0.00001, 1, 0.0001),\n",
    "            \"subsample\": trial.suggest_discrete_uniform(\"subsample\", 0.01, 1, 0.01),\n",
    "            \"colsample_bytree\": trial.suggest_discrete_uniform(\"colsample_bytree\", 0.01, 1, 0.01),\n",
    "            \"min_split_gain\": trial.suggest_discrete_uniform(\"min_split_gain\", 0.01, 1, 0.01),\n",
    "            \"min_child_samples\": trial.suggest_int(\"min_child_samples\", 1, 50),\n",
    "            \"n_jobs\": trial.suggest_int(\"n_jobs\", -1, -1)}\n",
    "    return space\n",
    "trials = 60 #liczba prób\n",
    "\n",
    "def objective(trial, model, X, y):\n",
    "    model_space = get_space(trial)\n",
    "\n",
    "    mdl = model(**model_space)\n",
    "    scores = cross_validate(mdl, X, y, groups=train_folds, scoring=scoring, cv=GroupKFold(n_splits=len(np.unique(train_folds))), return_train_score=True)\n",
    "\n",
    "    return np.mean(scores['test_f1_macro'])"
   ]
  },
  {
   "cell_type": "markdown",
   "metadata": {},
   "source": [
    "Liczba prób powinna być większa niż 60, ale ze względu na brak czasu nie będziemy jej zwiększać. W praktyce korzystając z pakietu LightGBM daje się liczbę prób rzędu kilkuset lub nawet więcej i definiuje się parametr early_stopping_round w którm podaje się, przez ile prób metryka walidacyjna nie ulega poprawie."
   ]
  },
  {
   "cell_type": "code",
   "execution_count": null,
   "metadata": {},
   "outputs": [],
   "source": [
    "study = optuna.create_study(direction='maximize')"
   ]
  },
  {
   "cell_type": "code",
   "execution_count": null,
   "metadata": {
    "scrolled": false
   },
   "outputs": [],
   "source": [
    "%%time\n",
    "study.optimize(lambda x: objective(x, model, X_train, y_train), n_trials=trials)\n",
    "print('params: ', study.best_params)"
   ]
  },
  {
   "cell_type": "code",
   "execution_count": null,
   "metadata": {},
   "outputs": [],
   "source": [
    "#Wytrenuj model o najlepszych hiperparametrach, przeprowadź predykcję i wylicz metryki\n"
   ]
  },
  {
   "cell_type": "markdown",
   "metadata": {},
   "source": [
    "Porównaj uzyskane wszystkimi metodami macierze pomyłek. Która klasa jest najczęściej źle klasyfikowna, bez względu na użyty model? Jak myślisz, dlaczego?"
   ]
  }
 ],
 "metadata": {
  "kernelspec": {
   "display_name": "Python 3",
   "language": "python",
   "name": "python3"
  },
  "language_info": {
   "codemirror_mode": {
    "name": "ipython",
    "version": 3
   },
   "file_extension": ".py",
   "mimetype": "text/x-python",
   "name": "python",
   "nbconvert_exporter": "python",
   "pygments_lexer": "ipython3",
   "version": "3.8.5"
  }
 },
 "nbformat": 4,
 "nbformat_minor": 5
}
