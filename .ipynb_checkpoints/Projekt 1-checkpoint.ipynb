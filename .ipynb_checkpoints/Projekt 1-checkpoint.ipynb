{
 "cells": [
  {
   "cell_type": "code",
   "execution_count": 48,
   "metadata": {},
   "outputs": [
    {
     "name": "stderr",
     "output_type": "stream",
     "text": [
      "E:\\anaconda3\\lib\\site-packages\\librosa\\core\\spectrum.py:222: UserWarning: n_fft=2048 is too small for input signal of length=1502\n",
      "  warnings.warn(\n"
     ]
    }
   ],
   "source": [
    "import numpy as np\n",
    "import os\n",
    "from pathlib import Path\n",
    "from sklearn.ensemble import RandomForestClassifier\n",
    "from sklearn.metrics import precision_score, accuracy_score, recall_score, f1_score, make_scorer, confusion_matrix\n",
    "from sklearn.preprocessing import StandardScaler\n",
    "from sklearn.model_selection import train_test_split, cross_validate, GroupKFold\n",
    "from sklearn.neighbors import KNeighborsClassifier\n",
    "from collections import Counter\n",
    "import scipy.stats\n",
    "import librosa\n",
    "\n",
    "class_names = [\"kick\",\"snare\",\"clap\",\"hat\"]\n",
    "\n",
    "path = Path.cwd() / 'drumssorted\\\\'\n",
    "train_path_list = [path / 'Kicks\\\\',path / 'Snares\\\\',path / 'Claps\\\\',path / 'Hats\\\\']\n",
    "\n",
    "arr = []\n",
    "n = 0\n",
    "for a in train_path_list:\n",
    "    arr.append([n])\n",
    "    for i in os.listdir(a):\n",
    "        arr[n].append(i)\n",
    "    arr[n].remove(arr[n][0])\n",
    "    n+=1\n",
    "\n",
    "mfccs = []\n",
    "sig_len = []\n",
    "n=0\n",
    "for a in train_path_list:\n",
    "    for i in arr[n]:\n",
    "        signal, fs = librosa.load(a/i, sr=None) #you need to define the sampling frequency as None, otherwise librosa\n",
    "            #assumes the default value, i.e. 22050, and modifies the signal when loading\n",
    "        mfcc_13_coeffs = librosa.feature.mfcc(signal, sr=fs, n_mfcc=13) #I set the number of coefficients to 13\n",
    "        mfccs.append(mfcc_13_coeffs)\n",
    "        sig_len.append(np.shape(mfcc_13_coeffs)[1])\n",
    "    n+=1\n",
    "\n",
    "trunc_mfccs = []\n",
    "for item in mfccs:\n",
    "    item = item[:, :np.min(sig_len)]\n",
    "    trunc_mfccs.append(item)\n",
    "mfccs = np.asarray(trunc_mfccs)"
   ]
  },
  {
   "cell_type": "code",
   "execution_count": 49,
   "metadata": {},
   "outputs": [
    {
     "name": "stdout",
     "output_type": "stream",
     "text": [
      "(480,)\n",
      "(480, 13, 3)\n"
     ]
    },
    {
     "data": {
      "text/plain": [
       "Counter({0.0: 137, 1.0: 211, 2.0: 74, 3.0: 58})"
      ]
     },
     "execution_count": 49,
     "metadata": {},
     "output_type": "execute_result"
    }
   ],
   "source": [
    "#making a label with all the drum elements\n",
    "\n",
    "labels = np.zeros(len(arr[0])+len(arr[1])+len(arr[2])+len(arr[3]))\n",
    "for i in range(0, len(arr[0])):\n",
    "    labels[i] = 0\n",
    "for i in range(len(arr[0]), len(arr[1])+len(arr[0])):\n",
    "    labels[i] = 1\n",
    "for i in range(len(arr[1])+len(arr[0]), len(arr[2])+len(arr[1])+len(arr[0])):\n",
    "    labels[i] = 2\n",
    "for i in range(len(arr[2])+len(arr[1])+len(arr[0]), len(arr[3])+len(arr[1])+len(arr[0])+len(arr[2])):\n",
    "    labels[i] = 3\n",
    "\n",
    "print(labels.shape)\n",
    "print(mfccs.shape)\n",
    "Counter(labels)"
   ]
  },
  {
   "cell_type": "code",
   "execution_count": 50,
   "metadata": {},
   "outputs": [
    {
     "name": "stdout",
     "output_type": "stream",
     "text": [
      "Dokładność (ang. accuracy):  0.875\n",
      "Czułość (ang. recall):  0.8609126984126984\n",
      "Precyzja (ang. precision):  0.8956243032329988\n",
      "F1:  0.8751945556190839\n"
     ]
    }
   ],
   "source": [
    "#k-nearest neighbors method using mfcc\n",
    "\n",
    "X_train, X_test, y_train, y_test = train_test_split(mfccs, labels, test_size=0.2, random_state=42, stratify=labels)\n",
    "X_train = X_train.reshape(np.shape(X_train)[0],-1)\n",
    "X_test = X_test.reshape(np.shape(X_test)[0],-1)\n",
    "\n",
    "#clasification\n",
    "clf = KNeighborsClassifier(n_neighbors=10)\n",
    "clf.fit(X_train, y_train)\n",
    "preds = clf.predict(X_test)\n",
    "acc = accuracy_score(y_test, preds)\n",
    "recall = recall_score(y_test, preds, average='macro')\n",
    "prec = precision_score(y_test, preds, average='macro')\n",
    "f1 = f1_score(y_test, preds, average='macro')\n",
    "print(\"Dokładność (ang. accuracy): \", acc)\n",
    "print(\"Czułość (ang. recall): \", recall)\n",
    "print(\"Precyzja (ang. precision): \", prec)\n",
    "print(\"F1: \", f1)"
   ]
  },
  {
   "cell_type": "code",
   "execution_count": 51,
   "metadata": {},
   "outputs": [
    {
     "name": "stdout",
     "output_type": "stream",
     "text": [
      "360\n",
      "120\n",
      "360\n",
      "120\n"
     ]
    }
   ],
   "source": [
    "from sklearn.linear_model import LogisticRegression\n",
    "from sklearn.model_selection import StratifiedKFold, KFold\n",
    "\n",
    "#random forest method\n",
    "\n",
    "X = np.hstack((np.mean(mfccs, axis=2), #average value\n",
    "               np.std(mfccs, axis=2), #standard deviation\n",
    "               np.median(mfccs, axis=2), #median\n",
    "               np.percentile(mfccs, 25, axis=2), #I quartile\n",
    "               np.percentile(mfccs, 75, axis=2), #III quartile\n",
    "               scipy.stats.iqr(mfccs, rng=(10, 90), axis=2), #spread between the 10th and 90th percentile\n",
    "               scipy.stats.kurtosis(mfccs, axis=2), #kurtosis\n",
    "               scipy.stats.skew(mfccs, axis=2), #skewness\n",
    "               np.min(mfccs, axis=2), #minimal value\n",
    "               np.max(mfccs, axis=2) #maximal value\n",
    "              ))\n",
    "\n",
    "#making a fold\n",
    "\n",
    "kf4 = KFold(n_splits=4, shuffle=False)\n",
    "for train_index, test_index in kf4.split(mfccs):\n",
    "    train_folds = np.take(mfccs,train_index)\n",
    "    test_fold = np.take(mfccs,test_index)\n",
    "    train_folds_mask = train_index\n",
    "    test_fold_mask = test_index\n",
    "    \n",
    "print(len(train_folds))\n",
    "print(len(test_fold))\n",
    "print(len(train_folds_mask))\n",
    "print(len(test_fold_mask))"
   ]
  },
  {
   "cell_type": "code",
   "execution_count": 56,
   "metadata": {
    "scrolled": true
   },
   "outputs": [
    {
     "name": "stdout",
     "output_type": "stream",
     "text": [
      "Macierz pomyłek (ang. confusion matrix): \n",
      "[[ 0  0  0]\n",
      " [52 10  0]\n",
      " [57  1  0]]\n",
      "Dokładność (ang. accuracy):  0.08333333333333333\n",
      "F1:  0.091324200913242\n"
     ]
    }
   ],
   "source": [
    "#division into training and test sets\n",
    "\n",
    "X_train = X[train_folds_mask]\n",
    "X_test = X[test_fold_mask]\n",
    "\n",
    "y_train = labels[train_folds_mask]\n",
    "y_test = labels[test_fold_mask]\n",
    "\n",
    "scaler = StandardScaler()\n",
    "X_train = scaler.fit_transform(X_train)\n",
    "X_test = scaler.transform(X_test)\n",
    "\n",
    "scoring = {'f1_macro': make_scorer(f1_score, average='macro')}\n",
    "\n",
    "model = RandomForestClassifier(random_state=10)\n",
    "scores = cross_validate(model, X_train, y_train, scoring=scoring, \n",
    "                        groups=train_folds, cv=GroupKFold(n_splits=len(np.unique(train_folds))))\n",
    "model.fit(X_train,y_train)\n",
    "predictions = model.predict(X_test)\n",
    "print(\"Macierz pomyłek (ang. confusion matrix): \")\n",
    "print(confusion_matrix(y_test, predictions))\n",
    "print(\"Dokładność (ang. accuracy): \", accuracy_score(y_test, predictions))\n",
    "print(\"F1: \", f1_score(y_test, predictions, average='macro'))"
   ]
  },
  {
   "cell_type": "code",
   "execution_count": null,
   "metadata": {},
   "outputs": [],
   "source": []
  }
 ],
 "metadata": {
  "kernelspec": {
   "display_name": "Python 3",
   "language": "python",
   "name": "python3"
  },
  "language_info": {
   "codemirror_mode": {
    "name": "ipython",
    "version": 3
   },
   "file_extension": ".py",
   "mimetype": "text/x-python",
   "name": "python",
   "nbconvert_exporter": "python",
   "pygments_lexer": "ipython3",
   "version": "3.8.5"
  }
 },
 "nbformat": 4,
 "nbformat_minor": 4
}
